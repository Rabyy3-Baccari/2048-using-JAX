{
  "cells": [
    {
      "cell_type": "markdown",
      "metadata": {
        "id": "nSAotnkGYuKl"
      },
      "source": [
        "# Implementing a 2048 Environment\n",
        "# Building A MonteCarlo Tree Session Agent"
      ]
    },
    {
      "cell_type": "markdown",
      "metadata": {
        "id": "CAVDObWN35yc"
      },
      "source": [
        "## Installing packages"
      ]
    },
    {
      "cell_type": "code",
      "execution_count": null,
      "metadata": {
        "id": "ILprnYtbT387"
      },
      "outputs": [],
      "source": [
        "! pip install jumanji\n",
        "! pip install Pillow==9.0.0\n"
      ]
    },
    {
      "cell_type": "markdown",
      "metadata": {
        "id": "F4Ue-vzs4SAY"
      },
      "source": [
        "## 1. Types\n",
        "The types will define the data types used to represent the state and observations of the environment.\n",
        "- `State`: What data/variables you need to store in your environment to easily write the environment methods.\n",
        "- `Observation`: What meaningful information you should provide to the agent.\n",
        "\n",
        "### Import the necessary modules\n",
        "`Array` and `Numeric` are modules within the Chex library that provide functionality for working with JAX arrays and numerical computations."
      ]
    },
    {
      "cell_type": "code",
      "execution_count": null,
      "metadata": {
        "id": "Iq5km25a4Rls"
      },
      "outputs": [],
      "source": [
        "%%capture\n",
        "from chex import Array, Numeric, PRNGKey\n",
        "from typing_extensions import TypeAlias\n",
        "from typing import NamedTuple\n",
        "import jax\n",
        "import jax.numpy as jnp\n",
        "from typing import Tuple\n"
      ]
    },
    {
      "cell_type": "markdown",
      "metadata": {
        "id": "Oz9k2gbc_ld8"
      },
      "source": [
        "To update the environment state, we forecast that we will need to store the board, a random key for any stochastic operation (sampling a new target location when reached), action mask that indicates which actions are legal or valid to take in a given state of the environment, a step count to terminate the episode when the horizon is reached and a score to count the cummulative reward in order to showcase it in the rendering."
      ]
    },
    {
      "cell_type": "code",
      "execution_count": null,
      "metadata": {
        "id": "37cQUiZ7_l1p"
      },
      "outputs": [],
      "source": [
        "#\"State\" and \"Observation\" are implemented as NamedTuple.\n",
        "Board: TypeAlias = Array\n",
        "class State(NamedTuple):\n",
        "    board: Board\n",
        "    step_count: Numeric\n",
        "    action_mask: Array\n",
        "    key: PRNGKey\n",
        "    score: Numeric\n",
        "\n",
        "class Observation(NamedTuple):\n",
        "    board: Board\n",
        "    action_mask: Array"
      ]
    },
    {
      "cell_type": "markdown",
      "metadata": {
        "id": "nmy9tiXwH3-N"
      },
      "source": [
        "## Util functions\n",
        "1. Generate a random cell with value 2 or 4.\n",
        "2. Generate an inital board.\n",
        "3. Shift and merge the cells of the game to the 4 directions [Up, Right, Down, Left]\n"
      ]
    },
    {
      "cell_type": "markdown",
      "metadata": {
        "id": "knNVz53ReEvr"
      },
      "source": [
        "### Add random cell\n",
        "This function adds a random cell to a given game board. It first selects an empty position on the board at random and assigns a value of 2 or 4 to that position. The function takes in two arguments: the current game board and a key for the random number generator. It returns the updated game board with the new random cell added."
      ]
    },
    {
      "cell_type": "code",
      "execution_count": null,
      "metadata": {
        "id": "xwtw7wB5ZS_M"
      },
      "outputs": [],
      "source": [
        "# First approach\n",
        "def add_random_cell(board: Board, key: PRNGKey) -> Board:\n",
        "\n",
        "    # Generate a new key\n",
        "    key, subkey = jax.random.split(key)\n",
        "\n",
        "    # Select position of the new random cell\n",
        "    zero_indices = jnp.argwhere(board == 0)\n",
        "    tile_idx = jax.random.choice(\n",
        "        key, jnp.arange(len(zero_indices))\n",
        "    )\n",
        "\n",
        "    # Choose the value of the new cell: 2 with probability 90% or 4 with probability of 10%\n",
        "    cell_value = jax.random.choice(\n",
        "        subkey, jnp.array([2, 4]), p=jnp.array([0.9, 0.1])\n",
        "    )\n",
        "    board = board.at[tuple(zero_indices[tile_idx])].set(cell_value)\n",
        "\n",
        "    return board"
      ]
    },
    {
      "cell_type": "markdown",
      "metadata": {
        "id": "E4zKE2wwL1kH"
      },
      "source": [
        "**Why we have `board=board.at[position].set(cell_value)` instead of `board[position]=cell_value`?**\n",
        "\n",
        "In JAX, arrays are immutable, which means that you cannot modify the values of an existing array. Instead, you need to create a new array with the modified values."
      ]
    },
    {
      "cell_type": "code",
      "execution_count": null,
      "metadata": {
        "colab": {
          "base_uri": "https://localhost:8080/"
        },
        "id": "NrJ-NFcsbwj8",
        "outputId": "ecb020f5-8146-49fe-ffb9-b5b71ddb9c07"
      },
      "outputs": [
        {
          "output_type": "stream",
          "name": "stdout",
          "text": [
            "[[ 2  2  2  0]\n",
            " [ 4  8 16  0]\n",
            " [16  0 32  0]\n",
            " [32 64  0 64]]\n"
          ]
        }
      ],
      "source": [
        "# Test add_random_cell\n",
        "board=jnp.array(\n",
        "    [\n",
        "        [ 2,  2,  0,  0],\n",
        "        [ 4,  8, 16,  0],\n",
        "        [16,  0, 32,  0],\n",
        "        [32, 64,  0, 64]\n",
        "    ]\n",
        ")\n",
        "key=jax.random.PRNGKey(0)\n",
        "board=add_random_cell(board, key)\n",
        "print(board)"
      ]
    },
    {
      "cell_type": "code",
      "execution_count": null,
      "metadata": {
        "colab": {
          "base_uri": "https://localhost:8080/",
          "height": 513
        },
        "id": "XVgdNTFcbxQK",
        "outputId": "59caec7e-234c-41c9-b130-d0e4718add37"
      },
      "outputs": [
        {
          "output_type": "error",
          "ename": "ConcretizationTypeError",
          "evalue": "Abstract tracer value encountered where concrete value is expected: traced array with shape int32[]\nThe size argument of jnp.nonzero must be statically specified to use jnp.nonzero within JAX transformations.\nThe error occurred while tracing the function add_random_cell at <ipython-input-8-9ff4c66c67c9>:2 for jit. This concrete value was not available in Python because it depends on the value of the argument board.\n\nSee https://jax.readthedocs.io/en/latest/errors.html#jax.errors.ConcretizationTypeError",
          "traceback": [
            "\u001b[0;31m---------------------------------------------------------------------------\u001b[0m",
            "\u001b[0;31mConcretizationTypeError\u001b[0m                   Traceback (most recent call last)",
            "\u001b[0;32m<ipython-input-10-a33c49ac2d9c>\u001b[0m in \u001b[0;36m<cell line: 3>\u001b[0;34m()\u001b[0m\n\u001b[1;32m      1\u001b[0m \u001b[0;31m# Jitted method\u001b[0m\u001b[0;34m\u001b[0m\u001b[0;34m\u001b[0m\u001b[0m\n\u001b[1;32m      2\u001b[0m \u001b[0madd_random_cell_jit\u001b[0m \u001b[0;34m=\u001b[0m \u001b[0mjax\u001b[0m\u001b[0;34m.\u001b[0m\u001b[0mjit\u001b[0m\u001b[0;34m(\u001b[0m\u001b[0madd_random_cell\u001b[0m\u001b[0;34m)\u001b[0m\u001b[0;34m\u001b[0m\u001b[0;34m\u001b[0m\u001b[0m\n\u001b[0;32m----> 3\u001b[0;31m \u001b[0mboard\u001b[0m \u001b[0;34m=\u001b[0m \u001b[0madd_random_cell_jit\u001b[0m\u001b[0;34m(\u001b[0m\u001b[0mboard\u001b[0m\u001b[0;34m,\u001b[0m \u001b[0mkey\u001b[0m\u001b[0;34m)\u001b[0m\u001b[0;34m\u001b[0m\u001b[0;34m\u001b[0m\u001b[0m\n\u001b[0m\u001b[1;32m      4\u001b[0m \u001b[0mprint\u001b[0m\u001b[0;34m(\u001b[0m\u001b[0mboard\u001b[0m\u001b[0;34m)\u001b[0m\u001b[0;34m\u001b[0m\u001b[0;34m\u001b[0m\u001b[0m\n",
            "    \u001b[0;31m[... skipping hidden 11 frame]\u001b[0m\n",
            "\u001b[0;32m<ipython-input-8-9ff4c66c67c9>\u001b[0m in \u001b[0;36madd_random_cell\u001b[0;34m(board, key)\u001b[0m\n\u001b[1;32m      6\u001b[0m \u001b[0;34m\u001b[0m\u001b[0m\n\u001b[1;32m      7\u001b[0m     \u001b[0;31m# Select position of the new random cell\u001b[0m\u001b[0;34m\u001b[0m\u001b[0;34m\u001b[0m\u001b[0m\n\u001b[0;32m----> 8\u001b[0;31m     \u001b[0mzero_indices\u001b[0m \u001b[0;34m=\u001b[0m \u001b[0mjnp\u001b[0m\u001b[0;34m.\u001b[0m\u001b[0margwhere\u001b[0m\u001b[0;34m(\u001b[0m\u001b[0mboard\u001b[0m \u001b[0;34m==\u001b[0m \u001b[0;36m0\u001b[0m\u001b[0;34m)\u001b[0m\u001b[0;34m\u001b[0m\u001b[0;34m\u001b[0m\u001b[0m\n\u001b[0m\u001b[1;32m      9\u001b[0m     tile_idx = jax.random.choice(\n\u001b[1;32m     10\u001b[0m         \u001b[0mkey\u001b[0m\u001b[0;34m,\u001b[0m \u001b[0mjnp\u001b[0m\u001b[0;34m.\u001b[0m\u001b[0marange\u001b[0m\u001b[0;34m(\u001b[0m\u001b[0mlen\u001b[0m\u001b[0;34m(\u001b[0m\u001b[0mzero_indices\u001b[0m\u001b[0;34m)\u001b[0m\u001b[0;34m)\u001b[0m\u001b[0;34m\u001b[0m\u001b[0;34m\u001b[0m\u001b[0m\n",
            "\u001b[0;32m/usr/local/lib/python3.10/dist-packages/jax/_src/numpy/lax_numpy.py\u001b[0m in \u001b[0;36margwhere\u001b[0;34m(a, size, fill_value)\u001b[0m\n\u001b[1;32m   7871\u001b[0m     \u001b[0mArray\u001b[0m\u001b[0;34m(\u001b[0m\u001b[0;34m[\u001b[0m\u001b[0;34m]\u001b[0m\u001b[0;34m,\u001b[0m \u001b[0mshape\u001b[0m\u001b[0;34m=\u001b[0m\u001b[0;34m(\u001b[0m\u001b[0;36m0\u001b[0m\u001b[0;34m,\u001b[0m \u001b[0;36m0\u001b[0m\u001b[0;34m)\u001b[0m\u001b[0;34m,\u001b[0m \u001b[0mdtype\u001b[0m\u001b[0;34m=\u001b[0m\u001b[0mint32\u001b[0m\u001b[0;34m)\u001b[0m\u001b[0;34m\u001b[0m\u001b[0;34m\u001b[0m\u001b[0m\n\u001b[1;32m   7872\u001b[0m   \"\"\"\n\u001b[0;32m-> 7873\u001b[0;31m   \u001b[0mresult\u001b[0m \u001b[0;34m=\u001b[0m \u001b[0mtranspose\u001b[0m\u001b[0;34m(\u001b[0m\u001b[0mvstack\u001b[0m\u001b[0;34m(\u001b[0m\u001b[0mnonzero\u001b[0m\u001b[0;34m(\u001b[0m\u001b[0matleast_1d\u001b[0m\u001b[0;34m(\u001b[0m\u001b[0ma\u001b[0m\u001b[0;34m)\u001b[0m\u001b[0;34m,\u001b[0m \u001b[0msize\u001b[0m\u001b[0;34m=\u001b[0m\u001b[0msize\u001b[0m\u001b[0;34m,\u001b[0m \u001b[0mfill_value\u001b[0m\u001b[0;34m=\u001b[0m\u001b[0mfill_value\u001b[0m\u001b[0;34m)\u001b[0m\u001b[0;34m)\u001b[0m\u001b[0;34m)\u001b[0m\u001b[0;34m\u001b[0m\u001b[0;34m\u001b[0m\u001b[0m\n\u001b[0m\u001b[1;32m   7874\u001b[0m   \u001b[0;32mif\u001b[0m \u001b[0mndim\u001b[0m\u001b[0;34m(\u001b[0m\u001b[0ma\u001b[0m\u001b[0;34m)\u001b[0m \u001b[0;34m==\u001b[0m \u001b[0;36m0\u001b[0m\u001b[0;34m:\u001b[0m\u001b[0;34m\u001b[0m\u001b[0;34m\u001b[0m\u001b[0m\n\u001b[1;32m   7875\u001b[0m     \u001b[0;32mreturn\u001b[0m \u001b[0mresult\u001b[0m\u001b[0;34m[\u001b[0m\u001b[0;34m:\u001b[0m\u001b[0;36m0\u001b[0m\u001b[0;34m]\u001b[0m\u001b[0;34m.\u001b[0m\u001b[0mreshape\u001b[0m\u001b[0;34m(\u001b[0m\u001b[0mresult\u001b[0m\u001b[0;34m.\u001b[0m\u001b[0mshape\u001b[0m\u001b[0;34m[\u001b[0m\u001b[0;36m0\u001b[0m\u001b[0;34m]\u001b[0m\u001b[0;34m,\u001b[0m \u001b[0;36m0\u001b[0m\u001b[0;34m)\u001b[0m\u001b[0;34m\u001b[0m\u001b[0;34m\u001b[0m\u001b[0m\n",
            "\u001b[0;32m/usr/local/lib/python3.10/dist-packages/jax/_src/numpy/lax_numpy.py\u001b[0m in \u001b[0;36mnonzero\u001b[0;34m(***failed resolving arguments***)\u001b[0m\n\u001b[1;32m   3167\u001b[0m   \u001b[0mmask\u001b[0m \u001b[0;34m=\u001b[0m \u001b[0marr\u001b[0m \u001b[0;32mif\u001b[0m \u001b[0marr\u001b[0m\u001b[0;34m.\u001b[0m\u001b[0mdtype\u001b[0m \u001b[0;34m==\u001b[0m \u001b[0mbool\u001b[0m \u001b[0;32melse\u001b[0m \u001b[0;34m(\u001b[0m\u001b[0marr\u001b[0m \u001b[0;34m!=\u001b[0m \u001b[0;36m0\u001b[0m\u001b[0;34m)\u001b[0m\u001b[0;34m\u001b[0m\u001b[0;34m\u001b[0m\u001b[0m\n\u001b[1;32m   3168\u001b[0m   \u001b[0mcalculated_size_\u001b[0m \u001b[0;34m=\u001b[0m \u001b[0mmask\u001b[0m\u001b[0;34m.\u001b[0m\u001b[0msum\u001b[0m\u001b[0;34m(\u001b[0m\u001b[0;34m)\u001b[0m \u001b[0;32mif\u001b[0m \u001b[0msize\u001b[0m \u001b[0;32mis\u001b[0m \u001b[0;32mNone\u001b[0m \u001b[0;32melse\u001b[0m \u001b[0msize\u001b[0m\u001b[0;34m\u001b[0m\u001b[0;34m\u001b[0m\u001b[0m\n\u001b[0;32m-> 3169\u001b[0;31m   calculated_size: int = core.concrete_dim_or_error(calculated_size_,\n\u001b[0m\u001b[1;32m   3170\u001b[0m     \u001b[0;34m\"The size argument of jnp.nonzero must be statically specified \"\u001b[0m\u001b[0;34m\u001b[0m\u001b[0;34m\u001b[0m\u001b[0m\n\u001b[1;32m   3171\u001b[0m     \"to use jnp.nonzero within JAX transformations.\")\n",
            "    \u001b[0;31m[... skipping hidden 1 frame]\u001b[0m\n",
            "\u001b[0;32m/usr/local/lib/python3.10/dist-packages/jax/_src/core.py\u001b[0m in \u001b[0;36mconcrete_or_error\u001b[0;34m(force, val, context)\u001b[0m\n\u001b[1;32m   1553\u001b[0m       \u001b[0;32mreturn\u001b[0m \u001b[0mforce\u001b[0m\u001b[0;34m(\u001b[0m\u001b[0mval\u001b[0m\u001b[0;34m.\u001b[0m\u001b[0maval\u001b[0m\u001b[0;34m.\u001b[0m\u001b[0mval\u001b[0m\u001b[0;34m)\u001b[0m\u001b[0;34m\u001b[0m\u001b[0;34m\u001b[0m\u001b[0m\n\u001b[1;32m   1554\u001b[0m     \u001b[0;32melse\u001b[0m\u001b[0;34m:\u001b[0m\u001b[0;34m\u001b[0m\u001b[0;34m\u001b[0m\u001b[0m\n\u001b[0;32m-> 1555\u001b[0;31m       \u001b[0;32mraise\u001b[0m \u001b[0mConcretizationTypeError\u001b[0m\u001b[0;34m(\u001b[0m\u001b[0mval\u001b[0m\u001b[0;34m,\u001b[0m \u001b[0mcontext\u001b[0m\u001b[0;34m)\u001b[0m\u001b[0;34m\u001b[0m\u001b[0;34m\u001b[0m\u001b[0m\n\u001b[0m\u001b[1;32m   1556\u001b[0m   \u001b[0;32melse\u001b[0m\u001b[0;34m:\u001b[0m\u001b[0;34m\u001b[0m\u001b[0;34m\u001b[0m\u001b[0m\n\u001b[1;32m   1557\u001b[0m     \u001b[0;32mreturn\u001b[0m \u001b[0mforce\u001b[0m\u001b[0;34m(\u001b[0m\u001b[0mval\u001b[0m\u001b[0;34m)\u001b[0m\u001b[0;34m\u001b[0m\u001b[0;34m\u001b[0m\u001b[0m\n",
            "\u001b[0;31mConcretizationTypeError\u001b[0m: Abstract tracer value encountered where concrete value is expected: traced array with shape int32[]\nThe size argument of jnp.nonzero must be statically specified to use jnp.nonzero within JAX transformations.\nThe error occurred while tracing the function add_random_cell at <ipython-input-8-9ff4c66c67c9>:2 for jit. This concrete value was not available in Python because it depends on the value of the argument board.\n\nSee https://jax.readthedocs.io/en/latest/errors.html#jax.errors.ConcretizationTypeError"
          ]
        }
      ],
      "source": [
        "# Jitted method\n",
        "add_random_cell_jit = jax.jit(add_random_cell)\n",
        "board = add_random_cell_jit(board, key)\n",
        "print(board)"
      ]
    },
    {
      "cell_type": "markdown",
      "metadata": {
        "id": "sK_sn1A8wZ2H"
      },
      "source": [
        "**What is the reason for jitted functions not accepting non-static variables?**\n",
        "\n",
        "Jitted functions may not accept non-static variables, such as arrays, because the size of the variable is not known at compile time. This can make it difficult for the compiler to generate efficient code for accessing and manipulating the variable. Dynamic allocation of variables at runtime means their size is only determined at runtime, which is why jitted functions may not be able to handle non-static variables effectively.\n",
        "\n",
        "**Idea to solve the non-static array**\n",
        "1. Flatten the matrix of the board (It will be easy to deal with 1D array than 2D when it comes to choose random position).\n",
        "\n",
        "2. Since we can't use `argwhere`, we change the matrix values to be boolean (`True` if the cell is empty and `False` if not) and we use random choice, but we add probabilities associated to each cell.\n",
        "\n",
        "3. After getting the random position of the new cell in the 1D array, we translate it to be for the 2D one.\n",
        "\n"
      ]
    },
    {
      "cell_type": "code",
      "execution_count": null,
      "metadata": {
        "id": "nh99cL66IfsG"
      },
      "outputs": [],
      "source": [
        "# Solution\n",
        "def add_random_cell(board: Board, key: PRNGKey) -> Board:\n",
        "    # Generate a new key\n",
        "    key, subkey = jax.random.split(key)\n",
        "\n",
        "    # Select position of the new random cell\n",
        "    empty_flatten_board = jnp.ravel(board == 0)\n",
        "    tile_idx = jax.random.choice(\n",
        "        key, jnp.arange(len(empty_flatten_board)), p=empty_flatten_board\n",
        "    )\n",
        "    # Convert the selected tile's location in the flattened array to its position on the board.\n",
        "    board_size=board.shape[0]\n",
        "    position = jnp.divmod(tile_idx, board_size)\n",
        "\n",
        "    # Choose the value of the new cell: 2 with probability 90% or 4 with probability of 10%\n",
        "    cell_value = jax.random.choice(\n",
        "        subkey, jnp.array([2, 4]), p=jnp.array([0.9, 0.1])\n",
        "    )\n",
        "    board = board.at[position].set(cell_value)\n",
        "\n",
        "    return board"
      ]
    },
    {
      "cell_type": "code",
      "execution_count": null,
      "metadata": {
        "colab": {
          "base_uri": "https://localhost:8080/"
        },
        "id": "92L95RsFWN3a",
        "outputId": "9c0f9ad0-4234-436d-de24-45b8d3502384"
      },
      "outputs": [
        {
          "output_type": "stream",
          "name": "stdout",
          "text": [
            "[[ 2  2  0  0]\n",
            " [ 4  8 16  0]\n",
            " [16  0 32  0]\n",
            " [32 64  2 64]]\n"
          ]
        }
      ],
      "source": [
        "# Test add_random_cell\n",
        "board=jnp.array(\n",
        "    [\n",
        "        [ 2,  2,  0,  0],\n",
        "        [ 4,  8, 16,  0],\n",
        "        [16,  0, 32,  0],\n",
        "        [32, 64,  0, 64]\n",
        "    ]\n",
        ")\n",
        "key=jax.random.PRNGKey(5)\n",
        "add_random_cell_jit = jax.jit(add_random_cell)\n",
        "board = add_random_cell_jit(board, key)\n",
        "print(board)"
      ]
    },
    {
      "cell_type": "markdown",
      "metadata": {
        "id": "2G0u6UG9fJ-b"
      },
      "source": [
        "### Generate the initial board\n",
        "This function generates an initial game board for an environment. The board is initially empty, with a specified size. The function then selects a random cell on the board and fills it with a value of 2 or 4. The function takes in two arguments, which are the board size and a key for the random number generator. It returns the generated game board as the output."
      ]
    },
    {
      "cell_type": "code",
      "execution_count": null,
      "metadata": {
        "id": "Ctj5o-bhfsBB"
      },
      "outputs": [],
      "source": [
        "def generate_board(board_size:int, key: PRNGKey) -> Board:\n",
        "    # Create empty board\n",
        "    board = jnp.zeros((board_size, board_size), dtype=jnp.int32)\n",
        "\n",
        "    # Fill one random cell with a value of 2 or 4\n",
        "    board = add_random_cell(board, key)\n",
        "\n",
        "    return board"
      ]
    },
    {
      "cell_type": "code",
      "execution_count": null,
      "metadata": {
        "colab": {
          "base_uri": "https://localhost:8080/"
        },
        "id": "Gm0laww2gNtw",
        "outputId": "0b9a5d09-8ccf-43b2-dda6-5c91fa89b99c"
      },
      "outputs": [
        {
          "output_type": "stream",
          "name": "stdout",
          "text": [
            "[[0 0 0 0]\n",
            " [0 0 0 2]\n",
            " [0 0 0 0]\n",
            " [0 0 0 0]]\n"
          ]
        }
      ],
      "source": [
        "key=jax.random.PRNGKey(0)\n",
        "board=generate_board(4, key)\n",
        "print(board)"
      ]
    },
    {
      "cell_type": "markdown",
      "metadata": {
        "id": "WwQtjtJyhC6R"
      },
      "source": [
        "### Board Movements and Element Merging Strategies for the 2048 Game\n",
        "**1. Shift a column**\n",
        "\n",
        "A straightforward approach to shifting all non-zero elements of an array to the left is to maintain their order while filling the remaining positions with zeros.\n",
        "\n",
        "**Steps**\n",
        "  \n",
        "  a. Shift nonzero element from index i to index j and increment j. For example, in the case of this column [2, 0, 2, 0], the first loop condition will be invoked when `i` equals 0 and 2, and it will return successively ([2, 0, 2, 0], `j` = 1) and ([2, 2, 2, 0], `j` = 2).\n",
        "  \n",
        "  b. Fill the remaining elements of the column with zeros. For example: if the initial column is [2, 0, 2, 0] then this method will be invoked when `j`    equals to 2: [2, 2, 2, 0]-> [2, 2, 0, 0] and 3: [2, 2, 0, 0]->[2, 2, 0, 0]."
      ]
    },
    {
      "cell_type": "code",
      "execution_count": null,
      "metadata": {
        "id": "BDKDWfgWXCLB"
      },
      "outputs": [],
      "source": [
        "def shift_up(col: Array) -> Array:\n",
        "    # Initialize a pointer to keep track of the next position to insert a non-zero element\n",
        "    j = 0\n",
        "\n",
        "    # Iterate over the array and move all non-zero elements to the left\n",
        "    for i in range(len(col)):\n",
        "        if col[i] != 0:\n",
        "            col= col.at[j].set(col[i])\n",
        "            j += 1\n",
        "\n",
        "    # Fill the remaining positions with zeros\n",
        "    while j< len(col):\n",
        "        col=col.at[j].set(0)\n",
        "        j+=1\n",
        "    return col"
      ]
    },
    {
      "cell_type": "code",
      "execution_count": null,
      "metadata": {
        "colab": {
          "base_uri": "https://localhost:8080/"
        },
        "id": "e5HM2vAsXqcz",
        "outputId": "b5ef9248-4463-4d46-b5c1-b49bb060c022"
      },
      "outputs": [
        {
          "output_type": "stream",
          "name": "stdout",
          "text": [
            "[2 2 2 0]\n"
          ]
        }
      ],
      "source": [
        "board_col=jnp.array([0, 2, 2, 2])\n",
        "updated_col=shift_up(board_col)\n",
        "print(updated_col)"
      ]
    },
    {
      "cell_type": "code",
      "execution_count": null,
      "metadata": {
        "colab": {
          "base_uri": "https://localhost:8080/",
          "height": 443
        },
        "id": "UzL79otbYtfK",
        "outputId": "fdd99765-3c60-4fcd-945a-e0329b95efa7",
        "collapsed": true
      },
      "outputs": [
        {
          "output_type": "error",
          "ename": "TracerBoolConversionError",
          "evalue": "Attempted boolean conversion of traced array with shape bool[].\nThe error occurred while tracing the function shift_up at <ipython-input-16-2896153e6e21>:1 for jit. This concrete value was not available in Python because it depends on the value of the argument col.\nSee https://jax.readthedocs.io/en/latest/errors.html#jax.errors.TracerBoolConversionError",
          "traceback": [
            "\u001b[0;31m---------------------------------------------------------------------------\u001b[0m",
            "\u001b[0;31mTracerBoolConversionError\u001b[0m                 Traceback (most recent call last)",
            "\u001b[0;32m<ipython-input-18-dbc81c18db4f>\u001b[0m in \u001b[0;36m<cell line: 2>\u001b[0;34m()\u001b[0m\n\u001b[1;32m      1\u001b[0m \u001b[0mshift_up_jit\u001b[0m \u001b[0;34m=\u001b[0m \u001b[0mjax\u001b[0m\u001b[0;34m.\u001b[0m\u001b[0mjit\u001b[0m\u001b[0;34m(\u001b[0m\u001b[0mshift_up\u001b[0m\u001b[0;34m)\u001b[0m\u001b[0;34m\u001b[0m\u001b[0;34m\u001b[0m\u001b[0m\n\u001b[0;32m----> 2\u001b[0;31m \u001b[0mupdated_col\u001b[0m \u001b[0;34m=\u001b[0m \u001b[0mshift_up_jit\u001b[0m\u001b[0;34m(\u001b[0m\u001b[0mboard_col\u001b[0m\u001b[0;34m)\u001b[0m\u001b[0;34m\u001b[0m\u001b[0;34m\u001b[0m\u001b[0m\n\u001b[0m\u001b[1;32m      3\u001b[0m \u001b[0mprint\u001b[0m\u001b[0;34m(\u001b[0m\u001b[0mupdated_col\u001b[0m\u001b[0;34m)\u001b[0m\u001b[0;34m\u001b[0m\u001b[0;34m\u001b[0m\u001b[0m\n",
            "    \u001b[0;31m[... skipping hidden 11 frame]\u001b[0m\n",
            "\u001b[0;32m<ipython-input-16-2896153e6e21>\u001b[0m in \u001b[0;36mshift_up\u001b[0;34m(col)\u001b[0m\n\u001b[1;32m      5\u001b[0m     \u001b[0;31m# Iterate over the array and move all non-zero elements to the left\u001b[0m\u001b[0;34m\u001b[0m\u001b[0;34m\u001b[0m\u001b[0m\n\u001b[1;32m      6\u001b[0m     \u001b[0;32mfor\u001b[0m \u001b[0mi\u001b[0m \u001b[0;32min\u001b[0m \u001b[0mrange\u001b[0m\u001b[0;34m(\u001b[0m\u001b[0mlen\u001b[0m\u001b[0;34m(\u001b[0m\u001b[0mcol\u001b[0m\u001b[0;34m)\u001b[0m\u001b[0;34m)\u001b[0m\u001b[0;34m:\u001b[0m\u001b[0;34m\u001b[0m\u001b[0;34m\u001b[0m\u001b[0m\n\u001b[0;32m----> 7\u001b[0;31m         \u001b[0;32mif\u001b[0m \u001b[0mcol\u001b[0m\u001b[0;34m[\u001b[0m\u001b[0mi\u001b[0m\u001b[0;34m]\u001b[0m \u001b[0;34m!=\u001b[0m \u001b[0;36m0\u001b[0m\u001b[0;34m:\u001b[0m\u001b[0;34m\u001b[0m\u001b[0;34m\u001b[0m\u001b[0m\n\u001b[0m\u001b[1;32m      8\u001b[0m             \u001b[0mcol\u001b[0m\u001b[0;34m=\u001b[0m \u001b[0mcol\u001b[0m\u001b[0;34m.\u001b[0m\u001b[0mat\u001b[0m\u001b[0;34m[\u001b[0m\u001b[0mj\u001b[0m\u001b[0;34m]\u001b[0m\u001b[0;34m.\u001b[0m\u001b[0mset\u001b[0m\u001b[0;34m(\u001b[0m\u001b[0mcol\u001b[0m\u001b[0;34m[\u001b[0m\u001b[0mi\u001b[0m\u001b[0;34m]\u001b[0m\u001b[0;34m)\u001b[0m\u001b[0;34m\u001b[0m\u001b[0;34m\u001b[0m\u001b[0m\n\u001b[1;32m      9\u001b[0m             \u001b[0mj\u001b[0m \u001b[0;34m+=\u001b[0m \u001b[0;36m1\u001b[0m\u001b[0;34m\u001b[0m\u001b[0;34m\u001b[0m\u001b[0m\n",
            "    \u001b[0;31m[... skipping hidden 1 frame]\u001b[0m\n",
            "\u001b[0;32m/usr/local/lib/python3.10/dist-packages/jax/_src/core.py\u001b[0m in \u001b[0;36merror\u001b[0;34m(self, arg)\u001b[0m\n\u001b[1;32m   1536\u001b[0m   \u001b[0;32mif\u001b[0m \u001b[0mfun\u001b[0m \u001b[0;32mis\u001b[0m \u001b[0mbool\u001b[0m\u001b[0;34m:\u001b[0m\u001b[0;34m\u001b[0m\u001b[0;34m\u001b[0m\u001b[0m\n\u001b[1;32m   1537\u001b[0m     \u001b[0;32mdef\u001b[0m \u001b[0merror\u001b[0m\u001b[0;34m(\u001b[0m\u001b[0mself\u001b[0m\u001b[0;34m,\u001b[0m \u001b[0marg\u001b[0m\u001b[0;34m)\u001b[0m\u001b[0;34m:\u001b[0m\u001b[0;34m\u001b[0m\u001b[0;34m\u001b[0m\u001b[0m\n\u001b[0;32m-> 1538\u001b[0;31m       \u001b[0;32mraise\u001b[0m \u001b[0mTracerBoolConversionError\u001b[0m\u001b[0;34m(\u001b[0m\u001b[0marg\u001b[0m\u001b[0;34m)\u001b[0m\u001b[0;34m\u001b[0m\u001b[0;34m\u001b[0m\u001b[0m\n\u001b[0m\u001b[1;32m   1539\u001b[0m   \u001b[0;32melif\u001b[0m \u001b[0mfun\u001b[0m \u001b[0;32min\u001b[0m \u001b[0;34m(\u001b[0m\u001b[0mhex\u001b[0m\u001b[0;34m,\u001b[0m \u001b[0moct\u001b[0m\u001b[0;34m,\u001b[0m \u001b[0moperator\u001b[0m\u001b[0;34m.\u001b[0m\u001b[0mindex\u001b[0m\u001b[0;34m)\u001b[0m\u001b[0;34m:\u001b[0m\u001b[0;34m\u001b[0m\u001b[0;34m\u001b[0m\u001b[0m\n\u001b[1;32m   1540\u001b[0m     \u001b[0;32mdef\u001b[0m \u001b[0merror\u001b[0m\u001b[0;34m(\u001b[0m\u001b[0mself\u001b[0m\u001b[0;34m,\u001b[0m \u001b[0marg\u001b[0m\u001b[0;34m)\u001b[0m\u001b[0;34m:\u001b[0m\u001b[0;34m\u001b[0m\u001b[0;34m\u001b[0m\u001b[0m\n",
            "\u001b[0;31mTracerBoolConversionError\u001b[0m: Attempted boolean conversion of traced array with shape bool[].\nThe error occurred while tracing the function shift_up at <ipython-input-16-2896153e6e21>:1 for jit. This concrete value was not available in Python because it depends on the value of the argument col.\nSee https://jax.readthedocs.io/en/latest/errors.html#jax.errors.TracerBoolConversionError"
          ]
        }
      ],
      "source": [
        "shift_up_jit = jax.jit(shift_up)\n",
        "updated_col = shift_up_jit(board_col)\n",
        "print(updated_col)"
      ]
    },
    {
      "cell_type": "markdown",
      "metadata": {
        "id": "wZRUwUHNZCRv"
      },
      "source": [
        "**Why if statement and while loop don't work in the case of jitted functions?**\n",
        "\n",
        "Compared to regular Python functions, the jitted functions have certain limitations. For instance, Jitted functions cannot handle certain types of dynamic operations, such as executing arbitrary Python code or using variable-sized data structures. As a result, Jitted functions may not be able to use certain control flow statements, such as if statements and while loops, in the same way as regular Python functions.\n",
        "\n",
        "\n",
        "**Solution**\n",
        "\n",
        "Using `jax.lax`: it is a sub-module of the JAX library, which provides low-level operations for building high-performance numerical computations. jax.lax provides a set of composable functions for performing low-level linear algebra and other numerical operations, and is designed to be efficient, composable, and portable across different hardware platforms.\n",
        "\n",
        "*if statement* -> `jax.lax.cond(condition, true_fun, false_fun, vars)`\n",
        "\n",
        "*while loop* -> `jax.lax.while_loop(cond_fun, body_fun, init_val)[source]`\n",
        "\n",
        "*for loop* -> `jax.lax.scan(f, init, xs)`"
      ]
    },
    {
      "cell_type": "code",
      "execution_count": null,
      "metadata": {
        "id": "wzFZvf2twKOu"
      },
      "outputs": [],
      "source": [
        "def shift_nonzero_element(carry: Tuple) -> Tuple[Array, int]:\n",
        "    col, j, i = carry\n",
        "    col = col.at[j].set(col[i])\n",
        "    j += 1\n",
        "    return col, j\n",
        "\n",
        "\n",
        "def shift_column_elements_up(carry: Tuple, i: int) -> Tuple[Array, None]:\n",
        "    col, j = carry\n",
        "    col, j = jax.lax.cond(\n",
        "        col[i] != 0,\n",
        "        shift_nonzero_element,\n",
        "        lambda col_j_i: col_j_i[:2],\n",
        "        (col, j, i),\n",
        "    )\n",
        "    return (col, j), None\n",
        "\n",
        "\n",
        "def fill_with_zero(carry: Tuple[Array, int]) -> Tuple[Array, int]:\n",
        "    col, j = carry\n",
        "    col = col.at[j].set(0)\n",
        "    j += 1\n",
        "    return col, j\n",
        "\n",
        "\n",
        "def shift_up(col: Array) -> Array:\n",
        "    j = 0\n",
        "    (col, j), _ = jax.lax.scan(  # In example: [2, 0, 2, 0] -> [2, 2, 2, 0]\n",
        "        f=shift_column_elements_up, init=(col, j), xs=jnp.arange(len(col))\n",
        "    )\n",
        "    col, j = jax.lax.while_loop(  # In example: [2, 2, 2, 0] -> [2, 2, 0, 0]\n",
        "        lambda col_j: col_j[1] < len(col_j[0]),\n",
        "        fill_with_zero,\n",
        "        (col, j),\n",
        "    )\n",
        "    return col"
      ]
    },
    {
      "cell_type": "code",
      "execution_count": null,
      "metadata": {
        "colab": {
          "base_uri": "https://localhost:8080/"
        },
        "id": "L1CMU2cNaUOu",
        "outputId": "283c1673-5d90-46c1-ca28-a005de065377"
      },
      "outputs": [
        {
          "output_type": "stream",
          "name": "stdout",
          "text": [
            "[2 2 2 0]\n"
          ]
        }
      ],
      "source": [
        "shift_up_jit = jax.jit(shift_up)\n",
        "updated_col = shift_up_jit(board_col)\n",
        "print(updated_col)"
      ]
    },
    {
      "cell_type": "markdown",
      "metadata": {
        "id": "1bZ_TuYsaAgf"
      },
      "source": [
        "**2. Merge elements**\n",
        "\n",
        "Combine the adjacent equal elements of a column to the left in accordance with the rules of the 2048 game. As an example, `[0, 0, 2, 2]` can be merged to produce `[0, 0, 4, 0]`."
      ]
    },
    {
      "cell_type": "code",
      "execution_count": null,
      "metadata": {
        "id": "07DH0KbPbvy-"
      },
      "outputs": [],
      "source": [
        "def merge_elements(carry: Tuple) -> Tuple[Array, float]:\n",
        "    col, reward, i = carry\n",
        "    new_col_i = 2*col[i]\n",
        "    col = col.at[i].set(new_col_i)\n",
        "    col = col.at[i + 1].set(0)\n",
        "    reward += new_col_i\n",
        "    return col, reward\n",
        "\n",
        "\n",
        "def merge_equal_elements(\n",
        "    carry: Tuple[Array, float], i: int\n",
        ") -> Tuple[Tuple[Array, float], None]:\n",
        "    col, reward = carry\n",
        "    col, reward = jax.lax.cond(\n",
        "        ((col[i] != 0) & (col[i] == col[i + 1])),\n",
        "        merge_elements,\n",
        "        lambda col_reward_i: col_reward_i[:2],\n",
        "        (col, reward, i),\n",
        "    )\n",
        "    return (col, reward), None\n",
        "\n",
        "@jax.jit\n",
        "def merge_col(col: Array) -> Tuple[Array, float]:\n",
        "    reward = 0.0\n",
        "    elements_indices = jnp.arange(len(col) - 1)\n",
        "    (col, reward), _ = jax.lax.scan(\n",
        "        f=merge_equal_elements, init=(col, reward), xs=elements_indices\n",
        "    )\n",
        "    return col, reward"
      ]
    },
    {
      "cell_type": "code",
      "execution_count": null,
      "metadata": {
        "colab": {
          "base_uri": "https://localhost:8080/"
        },
        "id": "poVjvWjscT9A",
        "outputId": "2324cb88-6bff-4557-863a-cc2a7e2c5d70"
      },
      "outputs": [
        {
          "output_type": "stream",
          "name": "stdout",
          "text": [
            "Initial column:  [0 2 2 2]\n",
            "After shifting the elements:  [2 2 2 0]\n",
            "After merging equal elements:  [4 0 2 0] with a reward equals:  4.0\n"
          ]
        }
      ],
      "source": [
        "print(\"Initial column: \",board_col)\n",
        "\n",
        "shift_up_jit = jax.jit(shift_up)\n",
        "updated_col = shift_up_jit(board_col)\n",
        "print(\"After shifting the elements: \",updated_col)\n",
        "\n",
        "updated_col = merge_col(updated_col)\n",
        "\n",
        "print(\"After merging equal elements: \",updated_col[0], \"with a reward equals: \",updated_col[1])"
      ]
    },
    {
      "cell_type": "markdown",
      "metadata": {
        "id": "NCvuqPU3dO6c"
      },
      "source": [
        "**3. Different movements**\n"
      ]
    },
    {
      "cell_type": "code",
      "execution_count": null,
      "metadata": {
        "id": "ZZsuexuHdVhp"
      },
      "outputs": [],
      "source": [
        "def move_up_col(carry: Tuple[Board, float], c: int)-> Tuple[Tuple[Board, float], None]:\n",
        "    board, additional_reward = carry\n",
        "    col = board[:, c]\n",
        "    col = shift_up(col)  # In example: [4, 4, 2, 2] -> [4, 4, 2, 2]\n",
        "    col, reward = merge_col(col)  # In example: [4, 4, 2, 2] -> [8, 0, 4, 0]\n",
        "    col = shift_up(col)  # In example: [8, 0, 4, 0] -> [8, 4, 0, 0]\n",
        "    additional_reward += reward\n",
        "    return (board.at[:, c].set(col), additional_reward), None\n",
        "\n",
        "@jax.jit\n",
        "def move_up(board: Board) -> Tuple[Board, float]:\n",
        "    \"\"\"Move up.\"\"\"\n",
        "    additional_reward = 0.0\n",
        "    col_indices = jnp.arange(board.shape[0])  # Board of size 4 -> [0, 1, 2, 3]\n",
        "    (board, additional_reward), _ = jax.lax.scan(\n",
        "        f=move_up_col,\n",
        "        init=(board, additional_reward),\n",
        "        xs=col_indices,\n",
        "    )\n",
        "    return board, additional_reward\n",
        "\n",
        "\n",
        "def move_down(board: Board) -> Tuple[Board, float]:\n",
        "    \"\"\"Move down.\"\"\"\n",
        "    board, additional_reward = move_up(\n",
        "        board=jnp.flip(board, 0)\n",
        "    )\n",
        "    return jnp.flip(board, 0), additional_reward\n",
        "\n",
        "\n",
        "def move_left(board: Board) -> Tuple[Board, float]:\n",
        "    \"\"\"Move left.\"\"\"\n",
        "    board, additional_reward = move_up(\n",
        "        board=jnp.rot90(board, k=-1)\n",
        "    )\n",
        "    return jnp.rot90(board, k=1), additional_reward\n",
        "\n",
        "\n",
        "def move_right(board: Board) -> Tuple[Board, float]:\n",
        "    \"\"\"Move right.\"\"\"\n",
        "    board, additional_reward = move_up(\n",
        "        board=jnp.rot90(board, k=1)\n",
        "    )\n",
        "    return jnp.rot90(board, k=-1), additional_reward"
      ]
    },
    {
      "cell_type": "code",
      "execution_count": null,
      "metadata": {
        "colab": {
          "base_uri": "https://localhost:8080/"
        },
        "id": "Geq72xIAdp4d",
        "outputId": "1b4c3147-1d7e-446a-c20a-edbc02e38797"
      },
      "outputs": [
        {
          "output_type": "stream",
          "name": "stdout",
          "text": [
            "After moving up: \n",
            " [[ 8  2  4  8]\n",
            " [ 8 16  2  0]\n",
            " [ 0  8  0  0]\n",
            " [ 0  0  0  0]] \n",
            " Reward:  44.0\n"
          ]
        }
      ],
      "source": [
        "board = jnp.array([\n",
        "    [4, 2, 2, 0],\n",
        "    [4, 8, 2, 4],\n",
        "    [4, 8, 2, 4],\n",
        "    [4, 8, 0, 0]\n",
        "  ])\n",
        "board, reward = move_up(board)\n",
        "print(\"After moving up: \\n\",board,\"\\n Reward: \",reward )"
      ]
    },
    {
      "cell_type": "markdown",
      "metadata": {
        "id": "F6eX28yrC_Ua"
      },
      "source": [
        "### Import the necessary modules\n",
        "In an environment, the following concepts are typically defined:\n",
        "- TimeStep: A timestep represents a single step or moment in the environment, including the current state, reward, discount, and other relevant information.\n",
        "- Restart: A restart occurs when the environment is reset to its initial state, typically at the start of a new episode.\n",
        "- Termination: A termination occurs when an episode ends, either because the agent has reached a terminal state or because a maximum number of timesteps has been reached.\n",
        "- Transition: A transition refers to the process of moving from one state to another state, typically as a result of the agent taking an action."
      ]
    },
    {
      "cell_type": "code",
      "execution_count": null,
      "metadata": {
        "id": "DVbqN0JgC-t0"
      },
      "outputs": [],
      "source": [
        "from typing import Optional, Sequence, Tuple\n",
        "\n",
        "import jax\n",
        "import jax.numpy as jnp\n",
        "from chex import Array, PRNGKey\n",
        "\n",
        "#\"spec\" is a set of parameters that define its behavior and enable reproducible instances for testing.\n",
        "from jumanji import specs\n",
        "from jumanji.env import Environment\n",
        "\n",
        "from jumanji.types import TimeStep, restart, termination, transition\n",
        "\n",
        "import matplotlib.pyplot as plt\n",
        "import chex\n",
        "import functools\n",
        "%matplotlib inline\n",
        "from env_viewer import Game2048Viewer"
      ]
    },
    {
      "cell_type": "markdown",
      "metadata": {
        "id": "MLwKoEomBoHY"
      },
      "source": [
        "## Env implementation\n",
        "Now you can implement the environment dynamics using the variables you defined in the `State`. During this process, you may need to iterate going back and forth between implementing the `step` and `reset` functions and changing the `State` to include anything you may have forgotten that is needed for the environment dynamics.\n",
        "\n",
        "Need to implement the following methods:\n",
        "- `observation_spec()`: defines the observation spec.\n",
        "- `action_spec()`: defines the action spec.\n",
        "- `reset(key)`: the environment reset behavior. This method generates a new instance/problem/initial state. Also returns a `TimeStep` that contains observation, reward, etc, things observed by the agent.\n",
        "- `step(state, action)`: the environment step behavior. This method generates a new environment state given a current state and an action taken by the agent. Also returns a `TimeStep` that contains observation, reward, etc, things observed by the agent."
      ]
    },
    {
      "cell_type": "code",
      "execution_count": null,
      "metadata": {
        "id": "UkH7DqhHCW83"
      },
      "outputs": [],
      "source": [
        "class Game2048(Environment[State, specs.DiscreteArray, Observation]):\n",
        "\n",
        "    def __init__(\n",
        "        self, board_size: int = 4, env_viewer: Optional[Game2048Viewer] = None\n",
        "    ) -> None:\n",
        "        self.board_size = board_size\n",
        "\n",
        "        # Create viewer used for rendering\n",
        "        self._env_viewer = env_viewer or Game2048Viewer(\"2048\", board_size)\n",
        "\n",
        "    def __repr__(self) -> str:\n",
        "        \"\"\"String representation of the environment.\"\"\"\n",
        "        return f\"2048 Game(board_size={self.board_size})\"\n",
        "\n",
        "    def observation_spec(self) -> specs.Spec:\n",
        "        \"\"\"Specifications of the observation of the `Game2048` environment.\"\"\"\n",
        "        return specs.Spec(\n",
        "            Observation,\n",
        "            \"ObservationSpec\",\n",
        "            board=specs.Array(\n",
        "                shape=(self.board_size, self.board_size),\n",
        "                dtype=jnp.int32,\n",
        "                name=\"board\",\n",
        "            ),\n",
        "            action_mask=specs.BoundedArray(\n",
        "                shape=(4,),\n",
        "                dtype=bool,\n",
        "                minimum=False,\n",
        "                maximum=True,\n",
        "                name=\"action_mask\",\n",
        "            ),\n",
        "        )\n",
        "\n",
        "    def action_spec(self) -> specs.DiscreteArray:\n",
        "        \"\"\"Returns the action spec.\n",
        "\n",
        "        4 actions: [0, 1, 2, 3] -> [Up, Right, Down, Left].\n",
        "\n",
        "        Returns:\n",
        "            action_spec: `DiscreteArray` spec object.\n",
        "        \"\"\"\n",
        "        return specs.DiscreteArray(4, name=\"action\")\n",
        "\n",
        "    def reset(self, key: PRNGKey) -> Tuple[State, TimeStep[Observation]]:\n",
        "        \"\"\"Resets the environment.\"\"\"\n",
        "\n",
        "        key, board_key = jax.random.split(key)\n",
        "        board = self._generate_board(board_key)\n",
        "        action_mask = self._get_action_mask(board)\n",
        "\n",
        "        obs = Observation(board=board, action_mask=action_mask)\n",
        "\n",
        "        timestep = restart(observation=obs)\n",
        "\n",
        "        state = State(\n",
        "            board=board,\n",
        "            step_count=jnp.int32(0),\n",
        "            action_mask=action_mask,\n",
        "            key=key,\n",
        "            score=jnp.array(0, float),\n",
        "        )\n",
        "\n",
        "        return state, timestep\n",
        "\n",
        "    def step(self, state: State, action) -> Tuple[State, TimeStep[Observation]]:\n",
        "        \"\"\"Updates the environment state after the agent takes an action.\"\"\"\n",
        "\n",
        "        # Take the action in the environment: Up, Right, Down, Left.\n",
        "        updated_board, additional_reward = jax.lax.switch(\n",
        "            action,\n",
        "            [move_up, move_right, move_down, move_left],\n",
        "            state.board,\n",
        "        )\n",
        "\n",
        "        # Generate action mask to keep in the state for the next step and\n",
        "        # to provide to the agent in the observation.\n",
        "        action_mask = self._get_action_mask(board=updated_board)\n",
        "\n",
        "        # Check if the episode terminates (i.e. there are no legal actions).\n",
        "        done = ~jnp.any(action_mask)\n",
        "\n",
        "        # Generate new key.\n",
        "        random_cell_key, new_state_key = jax.random.split(state.key)\n",
        "\n",
        "        # Update the state of the board by adding a new random cell.\n",
        "        updated_board = jax.lax.cond(\n",
        "            done,\n",
        "            lambda board, pkey: board,\n",
        "            self._add_random_cell,\n",
        "            updated_board,\n",
        "            random_cell_key,\n",
        "        )\n",
        "\n",
        "        # Build the state.\n",
        "        state = State(\n",
        "            board=updated_board,\n",
        "            action_mask=action_mask,\n",
        "            step_count=state.step_count + 1,\n",
        "            key=new_state_key,\n",
        "            score=state.score + additional_reward.astype(float),\n",
        "        )\n",
        "\n",
        "        # Generate the observation from the environment state.\n",
        "        observation = Observation(\n",
        "            board=updated_board,\n",
        "            action_mask=action_mask,\n",
        "        )\n",
        "\n",
        "        # Return either a MID or a LAST timestep depending on done.\n",
        "        timestep = jax.lax.cond(\n",
        "            done,\n",
        "            termination,\n",
        "            transition,\n",
        "            additional_reward,\n",
        "            observation,\n",
        "        )\n",
        "\n",
        "        return state, timestep\n",
        "\n",
        "    def _generate_board(self, key: PRNGKey) -> Board:\n",
        "        \"\"\"Generates an initial board for the environment.\"\"\"\n",
        "\n",
        "        # Create empty board\n",
        "        board = jnp.zeros((self.board_size, self.board_size), dtype=jnp.int32)\n",
        "\n",
        "        # Fill one random cell with a value of 2 or 4\n",
        "        board = self._add_random_cell(board, key)\n",
        "\n",
        "        return board\n",
        "\n",
        "    def _add_random_cell(self, board: Board, key: PRNGKey) -> Board:\n",
        "        \"\"\"Adds a new random cell to the board.\"\"\"\n",
        "        key, subkey = jax.random.split(key)\n",
        "\n",
        "        # Select position of the new random cell\n",
        "        empty_flatten_board = jnp.ravel(board == 0)\n",
        "        tile_idx = jax.random.choice(\n",
        "            key, jnp.arange(len(empty_flatten_board)), p=empty_flatten_board\n",
        "        )\n",
        "        # Convert the selected tile's location in the flattened array to its position on the board.\n",
        "        position = jnp.divmod(tile_idx, self.board_size)\n",
        "\n",
        "        # Choose the value of the new cell: 2 with probability 90% or 4 with probability of 10%\n",
        "        cell_value = jax.random.choice(\n",
        "            subkey, jnp.array([2, 4]), p=jnp.array([0.9, 0.1])\n",
        "        )\n",
        "        board = board.at[position].set(cell_value)\n",
        "\n",
        "        return board\n",
        "\n",
        "    def _get_action_mask(self, board: Board) -> Array:\n",
        "        \"\"\"Generates a binary mask indicating which actions are valid.\n",
        "\n",
        "        If the movement in that direction leaves the board unchanged, the action is\n",
        "        considered illegal.\n",
        "\n",
        "        Args:\n",
        "            board: current board of the environment.\n",
        "\n",
        "        Returns:\n",
        "            action_mask: action mask for the current state of the environment.\n",
        "        \"\"\"\n",
        "        action_mask = jnp.array(\n",
        "            [\n",
        "                jnp.any(move_up(board)[0] != board),\n",
        "                jnp.any(move_right(board)[0] != board),\n",
        "                jnp.any(move_down(board)[0] != board),\n",
        "                jnp.any(move_left(board)[0] != board),\n",
        "            ],\n",
        "        )\n",
        "        return action_mask\n",
        "\n",
        "    def render(self, state: State, save: bool = True, path: str = \"./2048.png\") -> None:\n",
        "        \"\"\"Renders the current state of the game board.\"\"\"\n",
        "        self._env_viewer.render(state=state, save=save, path=path)\n",
        "\n",
        "    def animate(\n",
        "        self,\n",
        "        states: Sequence[State],\n",
        "        interval: int = 400,\n",
        "        blit: bool = False,\n",
        "        save: bool = True,\n",
        "        path: str = \"./2048.gif\",\n",
        "    ):\n",
        "        \"\"\"Creates an animated gif of the 2048 game board based on the sequence of game states.\"\"\"\n",
        "\n",
        "        return self._env_viewer.animate(\n",
        "            states=states, interval=interval, blit=blit, save=save, path=path\n",
        "        )"
      ]
    },
    {
      "cell_type": "markdown",
      "metadata": {
        "id": "jNq1EU8RtRXY"
      },
      "source": [
        "### Random Agent\n",
        "\n",
        "- Debug with random actions to check that your environment works properly and follows the env interface.\n",
        "\n",
        "- Visualize a random policy acting on your problem.\n"
      ]
    },
    {
      "cell_type": "code",
      "execution_count": null,
      "metadata": {
        "id": "vF66lmzTsAcO"
      },
      "outputs": [],
      "source": [
        "def random_rollout(game2048: Game2048, key: chex.PRNGKey) -> chex.Numeric:\n",
        "    def body_fun(\n",
        "            carry: Tuple[State, TimeStep, chex.PRNGKey, chex.Numeric],\n",
        "    ) -> Tuple[State, TimeStep, chex.PRNGKey, chex.Numeric]:\n",
        "        state, timestep, key, return_ = carry\n",
        "        action_key, key = jax.random.split(key)\n",
        "        action = jax.random.choice(action_key, jnp.arange(4), p=state.action_mask.flatten())\n",
        "        state, timestep = game2048.step(state, action)\n",
        "        return_ += timestep.reward\n",
        "        return state, timestep, key, return_\n",
        "\n",
        "    state, timestep = game2048.reset(key)\n",
        "    state, timestep, key, return_ = jax.lax.while_loop(\n",
        "        cond_fun=lambda carry: ~carry[1].last(),\n",
        "        body_fun=body_fun,\n",
        "        init_val=(state, timestep, key, jnp.float32(0)),\n",
        "    )\n",
        "    return return_\n",
        "\n",
        "random_rollout_jit = jax.jit(functools.partial(random_rollout, Game2048(4)))"
      ]
    },
    {
      "cell_type": "code",
      "execution_count": null,
      "metadata": {
        "colab": {
          "base_uri": "https://localhost:8080/",
          "height": 489
        },
        "id": "Ytrt9SzpsUlT",
        "outputId": "7ccd5a10-48fc-4c67-f2d5-ffd9a92a8601"
      },
      "outputs": [
        {
          "output_type": "stream",
          "name": "stdout",
          "text": [
            "Average return: 1316.0 +/- 629.2\n"
          ]
        },
        {
          "output_type": "display_data",
          "data": {
            "text/plain": [
              "<Figure size 640x480 with 1 Axes>"
            ],
            "image/png": "[encoded data removed]"
          },
          "metadata": {}
        }
      ],
      "source": [
        "keys = jax.random.split(jax.random.PRNGKey(0), 1000)\n",
        "returns = jnp.array([random_rollout_jit(key) for key in keys])\n",
        "print(f\"Average return: {returns.mean():.1f} +/- {returns.std():.1f}\")\n",
        "plt.hist(returns)\n",
        "plt.title(\"Returns on a 4x4 game2048\")\n",
        "plt.xlabel(\"Return\");"
      ]
    },
    {
      "cell_type": "markdown",
      "metadata": {
        "id": "0tNPrz7pwc52"
      },
      "source": [
        "**Non jitting vs Jitting the environment**"
      ]
    },
    {
      "cell_type": "code",
      "execution_count": null,
      "metadata": {
        "colab": {
          "base_uri": "https://localhost:8080/"
        },
        "id": "krQE4Z6Hwgkh",
        "outputId": "41fdbd38-9936-45f8-eb43-a353713d61ef"
      },
      "outputs": [
        {
          "output_type": "stream",
          "name": "stdout",
          "text": [
            "17.1 ms ± 2.97 ms per loop (mean ± std. dev. of 7 runs, 100 loops each)\n"
          ]
        }
      ],
      "source": [
        "# Jitted methods\n",
        "%%timeit\n",
        "random_rollout_jit(keys[0])"
      ]
    },
    {
      "cell_type": "code",
      "execution_count": null,
      "metadata": {
        "colab": {
          "base_uri": "https://localhost:8080/"
        },
        "id": "GljqdciOz-zK",
        "outputId": "0e2468b3-3d5b-4f31-a55b-e32bc27dc600"
      },
      "outputs": [
        {
          "output_type": "stream",
          "name": "stdout",
          "text": [
            "2.36 s ± 317 ms per loop (mean ± std. dev. of 7 runs, 1 loop each)\n"
          ]
        }
      ],
      "source": [
        "# Non jitted method\n",
        "%%timeit\n",
        "random_rollout(Game2048(4), keys[0])"
      ]
    },
    {
      "cell_type": "markdown",
      "metadata": {
        "id": "AhKY3ZM7taL2"
      },
      "source": [
        "## Rendering\n",
        "Let's see how the agent played 2048 to receive over 4000 score for the random key 135."
      ]
    },
    {
      "cell_type": "code",
      "execution_count": null,
      "metadata": {
        "id": "l0YST7qnvWBv",
        "colab": {
          "base_uri": "https://localhost:8080/",
          "height": 603
        },
        "outputId": "91cc0177-0793-4c85-c4a4-e067e61a970f"
      },
      "outputs": [
        {
          "output_type": "execute_result",
          "data": {
            "text/plain": [
              "<matplotlib.animation.FuncAnimation at 0x7f5cdd83c940>"
            ]
          },
          "metadata": {},
          "execution_count": 34
        },
        {
          "output_type": "display_data",
          "data": {
            "text/plain": [
              "<Figure size 600x600 with 2 Axes>"
            ],
            "image/png": "[encoded data removed]"
          },
          "metadata": {}
        }
      ],
      "source": [
        "def random_rollout(game2048: Game2048, key: chex.PRNGKey) -> chex.Numeric:\n",
        "    def body_fun(\n",
        "            carry: Tuple[State, TimeStep, chex.PRNGKey, chex.Numeric],\n",
        "    ) -> Tuple[State, TimeStep, chex.PRNGKey, chex.Numeric]:\n",
        "        state, timestep, key, return_ = carry\n",
        "        action_key, key = jax.random.split(key)\n",
        "        action = jax.random.choice(action_key, jnp.arange(4), p=state.action_mask.flatten())\n",
        "        state, timestep = game2048.step(state, action)\n",
        "        return_ += timestep.reward\n",
        "        return state, timestep, key, return_\n",
        "\n",
        "    state, timestep = game2048.reset(key)\n",
        "    states=[]\n",
        "    states.append(state)\n",
        "    return_=jnp.float32(0)\n",
        "    while not timestep.last():\n",
        "        state, timestep, key, return_=body_fun((state, timestep, key, return_))\n",
        "        states.append(state)\n",
        "    return states, return_\n",
        "\n",
        "game2048=Game2048(4)\n",
        "states, return_=random_rollout(game2048, keys[0])\n",
        "game2048.animate(states=states, interval=400, blit=False)"
      ]
    }
  ],
  "metadata": {
    "colab": {
      "provenance": []
    },
    "kernelspec": {
      "display_name": "Python 3",
      "name": "python3"
    },
    "language_info": {
      "codemirror_mode": {
        "name": "ipython",
        "version": 3
      },
      "file_extension": ".py",
      "mimetype": "text/x-python",
      "name": "python",
      "nbconvert_exporter": "python",
      "pygments_lexer": "ipython3",
      "version": "3.8.13"
    }
  },
  "nbformat": 4,
  "nbformat_minor": 0
}